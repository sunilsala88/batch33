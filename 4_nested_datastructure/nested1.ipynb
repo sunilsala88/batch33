{
 "cells": [
  {
   "cell_type": "code",
   "execution_count": 2,
   "id": "44c3ba24",
   "metadata": {},
   "outputs": [],
   "source": [
    "a='abc'\n",
    "b=[22,33,44]\n",
    "c={'tsla': '200', 'amzn': '500'}\n",
    "d=(55,66,88)\n",
    "e={6,7,8}"
   ]
  },
  {
   "cell_type": "code",
   "execution_count": 6,
   "id": "e67ebc45",
   "metadata": {},
   "outputs": [
    {
     "data": {
      "text/plain": [
       "set"
      ]
     },
     "execution_count": 6,
     "metadata": {},
     "output_type": "execute_result"
    }
   ],
   "source": [
    "type(e)"
   ]
  },
  {
   "cell_type": "code",
   "execution_count": 9,
   "id": "c2d359b2",
   "metadata": {},
   "outputs": [
    {
     "data": {
      "text/plain": [
       "200"
      ]
     },
     "execution_count": 9,
     "metadata": {},
     "output_type": "execute_result"
    }
   ],
   "source": [
    "#list of dict\n",
    "data=[\n",
    "    {'goog':[200,300,400,500]},\n",
    "    {'tsla':[654,456,789,678]},\n",
    "    {'nvda':[612,342,543,678]}\n",
    "]\n",
    "data[0].get('goog')[0]"
   ]
  },
  {
   "cell_type": "code",
   "execution_count": 14,
   "id": "c5a39f1c",
   "metadata": {},
   "outputs": [
    {
     "data": {
      "text/plain": [
       "76"
      ]
     },
     "execution_count": 14,
     "metadata": {},
     "output_type": "execute_result"
    }
   ],
   "source": [
    "#list of list\n",
    "list1=[ [33,44,55], [65,76,87] , [77,88,99] ]\n",
    "list1[1][1]"
   ]
  },
  {
   "cell_type": "code",
   "execution_count": 40,
   "id": "9e5c1821",
   "metadata": {},
   "outputs": [
    {
     "data": {
      "text/plain": [
       "1500"
      ]
     },
     "execution_count": 40,
     "metadata": {},
     "output_type": "execute_result"
    }
   ],
   "source": [
    "hedge_fund_portfolio = {\n",
    "    \"fund_name\": \"Alpha Investments\",\n",
    "    \"portfolio_value\": 500_00_000,\n",
    "    \"investments\": [\n",
    "        {\n",
    "            \"type\": \"Equity\",\n",
    "            \"holdings\": [\n",
    "                {\"ticker\": \"AAPL\", \"quantity\": 10000, \"average_buy_price\": 120},\n",
    "                {\"ticker\": \"TSLA\", \"quantity\": 5000, \"average_buy_price\": 600}\n",
    "            ]\n",
    "        },\n",
    "        {\n",
    "            \"type\": \"Fixed Income\",\n",
    "            \"holdings\": [\n",
    "                {\"bond_issue\": \"US Treasuries\", \"amount\": 10000000, \"yield\": 1.5}\n",
    "            ]\n",
    "        },\n",
    "        {\n",
    "            \"type\": \"Derivatives\",\n",
    "            \"holdings\": [\n",
    "                {\"instrument\": \"Options\", \"details\": {\"underlying\": \"GOOGL\", \"type\": \"Call\", \"strike_price\": 1500}}\n",
    "            ]\n",
    "        }\n",
    "    ],\n",
    "    \"performance_metrics\": {\n",
    "        \"year_to_date_return\": 5.2,\n",
    "        \"five_year_annualized_return\": 7.1\n",
    "    }\n",
    "}\n",
    "hedge_fund_portfolio.get('investments')[1].get('type')\n",
    "hedge_fund_portfolio.get('investments')[0].get('holdings')[1].get('average_buy_price')\n",
    "hedge_fund_portfolio.get('investments')[2].get('holdings')[0].get('details').get('strike_price')"
   ]
  },
  {
   "cell_type": "code",
   "execution_count": 46,
   "id": "fee48c68",
   "metadata": {},
   "outputs": [
    {
     "data": {
      "text/plain": [
       "2.8"
      ]
     },
     "execution_count": 46,
     "metadata": {},
     "output_type": "execute_result"
    }
   ],
   "source": [
    "credit_risk_profiles = {\n",
    "    \"individuals\": [\n",
    "        {\n",
    "            \"name\": \"John Doe\",\n",
    "            \"credit_score\": 750,\n",
    "            \"outstanding_loans\": {\n",
    "                \"auto_loan\": {\"amount\": 20000, \"interest_rate\": 3.5},\n",
    "                \"home_loan\": {\"amount\": 150000, \"interest_rate\": 2.8}\n",
    "            },\n",
    "            \"payment_history\": [(\"2024-01-10\", \"On Time\"), (\"2024-01-01\", \"Late\")]\n",
    "        },\n",
    "        {\n",
    "            \"name\": \"Jane Smith\",\n",
    "            \"credit_score\": 680,\n",
    "            \"outstanding_loans\": {\n",
    "                \"credit_card\": {\"amount\": 5000, \"interest_rate\": 12.0}\n",
    "            },\n",
    "            \"payment_history\": [(\"2024-01-10\", \"On Time\")]\n",
    "        }\n",
    "    ]\n",
    "}\n",
    "credit_risk_profiles.get('individuals')[0].get('outstanding_loans').get('home_loan').get('interest_rate')"
   ]
  }
 ],
 "metadata": {
  "kernelspec": {
   "display_name": "Python 3",
   "language": "python",
   "name": "python3"
  },
  "language_info": {
   "codemirror_mode": {
    "name": "ipython",
    "version": 3
   },
   "file_extension": ".py",
   "mimetype": "text/x-python",
   "name": "python",
   "nbconvert_exporter": "python",
   "pygments_lexer": "ipython3",
   "version": "3.12.8"
  }
 },
 "nbformat": 4,
 "nbformat_minor": 5
}
