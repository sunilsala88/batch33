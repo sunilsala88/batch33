{
 "cells": [
  {
   "cell_type": "code",
   "execution_count": 2,
   "id": "44c3ba24",
   "metadata": {},
   "outputs": [],
   "source": [
    "a='abc'\n",
    "b=[22,33,44]\n",
    "c={'tsla': '200', 'amzn': '500'}\n",
    "d=(55,66,88)\n",
    "e={6,7,8}"
   ]
  },
  {
   "cell_type": "code",
   "execution_count": 6,
   "id": "e67ebc45",
   "metadata": {},
   "outputs": [
    {
     "data": {
      "text/plain": [
       "set"
      ]
     },
     "execution_count": 6,
     "metadata": {},
     "output_type": "execute_result"
    }
   ],
   "source": [
    "type(e)"
   ]
  },
  {
   "cell_type": "code",
   "execution_count": 9,
   "id": "c2d359b2",
   "metadata": {},
   "outputs": [
    {
     "data": {
      "text/plain": [
       "200"
      ]
     },
     "execution_count": 9,
     "metadata": {},
     "output_type": "execute_result"
    }
   ],
   "source": [
    "#list of dict\n",
    "data=[\n",
    "    {'goog':[200,300,400,500]},\n",
    "    {'tsla':[654,456,789,678]},\n",
    "    {'nvda':[612,342,543,678]}\n",
    "]\n",
    "data[0].get('goog')[0]"
   ]
  }
 ],
 "metadata": {
  "kernelspec": {
   "display_name": "Python 3",
   "language": "python",
   "name": "python3"
  },
  "language_info": {
   "codemirror_mode": {
    "name": "ipython",
    "version": 3
   },
   "file_extension": ".py",
   "mimetype": "text/x-python",
   "name": "python",
   "nbconvert_exporter": "python",
   "pygments_lexer": "ipython3",
   "version": "3.12.8"
  }
 },
 "nbformat": 4,
 "nbformat_minor": 5
}
