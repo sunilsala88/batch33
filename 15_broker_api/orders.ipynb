{
 "cells": [
  {
   "cell_type": "code",
   "execution_count": null,
   "id": "7c25cc81",
   "metadata": {},
   "outputs": [],
   "source": [
    "from alpaca.trading.client import TradingClient\n",
    "api_key='PKCGQ99MC5FQA1P8ZSRE'\n",
    "secret_key='rkWLI1F2poiTbuERdzozfOLgVV6mrFKTH27Ugvb1'\n",
    "trading_client = TradingClient(api_key, secret_key, paper=True)\n"
   ]
  },
  {
   "cell_type": "markdown",
   "id": "a5083444",
   "metadata": {},
   "source": [
    "market order"
   ]
  },
  {
   "cell_type": "code",
   "execution_count": 3,
   "id": "37e38704",
   "metadata": {},
   "outputs": [
    {
     "data": {
      "text/plain": [
       "{   'asset_class': <AssetClass.US_EQUITY: 'us_equity'>,\n",
       "    'asset_id': UUID('4ce9353c-66d1-46c2-898f-fce867ab0247'),\n",
       "    'canceled_at': None,\n",
       "    'client_order_id': '5db45079-88b1-42da-8dd8-13db794499b6',\n",
       "    'created_at': datetime.datetime(2025, 10, 11, 11, 41, 23, 811637, tzinfo=TzInfo(UTC)),\n",
       "    'expired_at': None,\n",
       "    'expires_at': datetime.datetime(2026, 1, 9, 21, 0, tzinfo=TzInfo(UTC)),\n",
       "    'extended_hours': False,\n",
       "    'failed_at': None,\n",
       "    'filled_at': None,\n",
       "    'filled_avg_price': None,\n",
       "    'filled_qty': '0',\n",
       "    'hwm': None,\n",
       "    'id': UUID('a03e55b1-917a-4b53-9b3b-04f87a4c1ae4'),\n",
       "    'legs': None,\n",
       "    'limit_price': None,\n",
       "    'notional': None,\n",
       "    'order_class': <OrderClass.SIMPLE: 'simple'>,\n",
       "    'order_type': <OrderType.MARKET: 'market'>,\n",
       "    'position_intent': <PositionIntent.SELL_TO_CLOSE: 'sell_to_close'>,\n",
       "    'qty': '1',\n",
       "    'ratio_qty': None,\n",
       "    'replaced_at': None,\n",
       "    'replaced_by': None,\n",
       "    'replaces': None,\n",
       "    'side': <OrderSide.SELL: 'sell'>,\n",
       "    'status': <OrderStatus.ACCEPTED: 'accepted'>,\n",
       "    'stop_price': None,\n",
       "    'submitted_at': datetime.datetime(2025, 10, 11, 11, 41, 23, 811637, tzinfo=TzInfo(UTC)),\n",
       "    'symbol': 'NVDA',\n",
       "    'time_in_force': <TimeInForce.GTC: 'gtc'>,\n",
       "    'trail_percent': None,\n",
       "    'trail_price': None,\n",
       "    'type': <OrderType.MARKET: 'market'>,\n",
       "    'updated_at': datetime.datetime(2025, 10, 11, 11, 41, 23, 812063, tzinfo=TzInfo(UTC))}"
      ]
     },
     "execution_count": 3,
     "metadata": {},
     "output_type": "execute_result"
    }
   ],
   "source": [
    "from alpaca.trading.requests import MarketOrderRequest\n",
    "from alpaca.trading.enums import OrderSide, TimeInForce\n",
    "# preparing orders\n",
    "symbol='NVDA'\n",
    "market_order_data = MarketOrderRequest(\n",
    "                    symbol=symbol,\n",
    "                    qty=1,\n",
    "                    side=OrderSide.SELL,\n",
    "                    time_in_force=TimeInForce.GTC\n",
    "                    )\n",
    "\n",
    "# Market order\n",
    "market_order = trading_client.submit_order(\n",
    "                order_data=market_order_data\n",
    "               )\n",
    "market_order"
   ]
  },
  {
   "cell_type": "markdown",
   "id": "e4189512",
   "metadata": {},
   "source": [
    "limit order"
   ]
  },
  {
   "cell_type": "code",
   "execution_count": 4,
   "id": "3a8e76ee",
   "metadata": {},
   "outputs": [
    {
     "data": {
      "text/plain": [
       "{   'asset_class': <AssetClass.US_EQUITY: 'us_equity'>,\n",
       "    'asset_id': UUID('4ce9353c-66d1-46c2-898f-fce867ab0247'),\n",
       "    'canceled_at': None,\n",
       "    'client_order_id': 'c1f9d405-a555-4c7c-b57d-fa2d305c4706',\n",
       "    'created_at': datetime.datetime(2025, 10, 11, 11, 50, 23, 902997, tzinfo=TzInfo(UTC)),\n",
       "    'expired_at': None,\n",
       "    'expires_at': datetime.datetime(2026, 1, 9, 21, 0, tzinfo=TzInfo(UTC)),\n",
       "    'extended_hours': False,\n",
       "    'failed_at': None,\n",
       "    'filled_at': None,\n",
       "    'filled_avg_price': None,\n",
       "    'filled_qty': '0',\n",
       "    'hwm': None,\n",
       "    'id': UUID('e64868e1-025d-4013-9b67-60042f96037b'),\n",
       "    'legs': None,\n",
       "    'limit_price': '165',\n",
       "    'notional': None,\n",
       "    'order_class': <OrderClass.SIMPLE: 'simple'>,\n",
       "    'order_type': <OrderType.LIMIT: 'limit'>,\n",
       "    'position_intent': <PositionIntent.SELL_TO_CLOSE: 'sell_to_close'>,\n",
       "    'qty': '1',\n",
       "    'ratio_qty': None,\n",
       "    'replaced_at': None,\n",
       "    'replaced_by': None,\n",
       "    'replaces': None,\n",
       "    'side': <OrderSide.SELL: 'sell'>,\n",
       "    'status': <OrderStatus.ACCEPTED: 'accepted'>,\n",
       "    'stop_price': None,\n",
       "    'submitted_at': datetime.datetime(2025, 10, 11, 11, 50, 23, 902997, tzinfo=TzInfo(UTC)),\n",
       "    'symbol': 'NVDA',\n",
       "    'time_in_force': <TimeInForce.GTC: 'gtc'>,\n",
       "    'trail_percent': None,\n",
       "    'trail_price': None,\n",
       "    'type': <OrderType.LIMIT: 'limit'>,\n",
       "    'updated_at': datetime.datetime(2025, 10, 11, 11, 50, 23, 903446, tzinfo=TzInfo(UTC))}"
      ]
     },
     "execution_count": 4,
     "metadata": {},
     "output_type": "execute_result"
    }
   ],
   "source": [
    "from alpaca.trading.requests import LimitOrderRequest\n",
    "symbol=\"NVDA\"\n",
    "\n",
    "limit_order_data = LimitOrderRequest(\n",
    "                    symbol=symbol,\n",
    "                    limit_price=165,\n",
    "                    qty=1,\n",
    "                    side=OrderSide.SELL,\n",
    "                    time_in_force=TimeInForce.GTC\n",
    "                   )\n",
    "\n",
    "# Limit order\n",
    "limit_order = trading_client.submit_order(\n",
    "                order_data=limit_order_data\n",
    "              )\n",
    "limit_order"
   ]
  },
  {
   "cell_type": "markdown",
   "id": "9efde51e",
   "metadata": {},
   "source": [
    "stop market order"
   ]
  },
  {
   "cell_type": "code",
   "execution_count": 5,
   "id": "dc95faca",
   "metadata": {},
   "outputs": [
    {
     "data": {
      "text/plain": [
       "{   'asset_class': <AssetClass.US_EQUITY: 'us_equity'>,\n",
       "    'asset_id': UUID('f801f835-bfe6-4a9d-a6b1-ccbb84bfd75f'),\n",
       "    'canceled_at': None,\n",
       "    'client_order_id': 'fc90c392-98ee-4cf1-8b4c-2cc8c84b6181',\n",
       "    'created_at': datetime.datetime(2025, 10, 11, 11, 58, 53, 60195, tzinfo=TzInfo(UTC)),\n",
       "    'expired_at': None,\n",
       "    'expires_at': datetime.datetime(2026, 1, 9, 21, 0, tzinfo=TzInfo(UTC)),\n",
       "    'extended_hours': False,\n",
       "    'failed_at': None,\n",
       "    'filled_at': None,\n",
       "    'filled_avg_price': None,\n",
       "    'filled_qty': '0',\n",
       "    'hwm': None,\n",
       "    'id': UUID('4b31b78b-64ac-492a-b5e7-94b4db503970'),\n",
       "    'legs': None,\n",
       "    'limit_price': None,\n",
       "    'notional': None,\n",
       "    'order_class': <OrderClass.SIMPLE: 'simple'>,\n",
       "    'order_type': <OrderType.STOP: 'stop'>,\n",
       "    'position_intent': <PositionIntent.SELL_TO_OPEN: 'sell_to_open'>,\n",
       "    'qty': '1',\n",
       "    'ratio_qty': None,\n",
       "    'replaced_at': None,\n",
       "    'replaced_by': None,\n",
       "    'replaces': None,\n",
       "    'side': <OrderSide.SELL: 'sell'>,\n",
       "    'status': <OrderStatus.ACCEPTED: 'accepted'>,\n",
       "    'stop_price': '230',\n",
       "    'submitted_at': datetime.datetime(2025, 10, 11, 11, 58, 53, 60195, tzinfo=TzInfo(UTC)),\n",
       "    'symbol': 'AMZN',\n",
       "    'time_in_force': <TimeInForce.GTC: 'gtc'>,\n",
       "    'trail_percent': None,\n",
       "    'trail_price': None,\n",
       "    'type': <OrderType.STOP: 'stop'>,\n",
       "    'updated_at': datetime.datetime(2025, 10, 11, 11, 58, 53, 61626, tzinfo=TzInfo(UTC))}"
      ]
     },
     "execution_count": 5,
     "metadata": {},
     "output_type": "execute_result"
    }
   ],
   "source": [
    "from alpaca.trading.requests import StopOrderRequest\n",
    "\n",
    "stop_order_data=StopOrderRequest(\n",
    "                    symbol=\"AMZN\",\n",
    "                    stop_price=230,\n",
    "                    qty=1,\n",
    "                    side=OrderSide.SELL,\n",
    "                    time_in_force=TimeInForce.GTC\n",
    ")\n",
    "\n",
    "stop_market_order = trading_client.submit_order(\n",
    "                order_data=stop_order_data\n",
    "              )\n",
    "stop_market_order"
   ]
  },
  {
   "cell_type": "markdown",
   "id": "ba599145",
   "metadata": {},
   "source": [
    "stop limit order"
   ]
  },
  {
   "cell_type": "code",
   "execution_count": 7,
   "id": "649d36f1",
   "metadata": {},
   "outputs": [
    {
     "data": {
      "text/plain": [
       "{   'asset_class': <AssetClass.US_EQUITY: 'us_equity'>,\n",
       "    'asset_id': UUID('f30d734c-2806-4d0d-b145-f9fade61432b'),\n",
       "    'canceled_at': None,\n",
       "    'client_order_id': 'a6761fb1-26e1-46fd-828b-9e2e08e2d08e',\n",
       "    'created_at': datetime.datetime(2025, 10, 11, 12, 0, 54, 835140, tzinfo=TzInfo(UTC)),\n",
       "    'expired_at': None,\n",
       "    'expires_at': datetime.datetime(2025, 10, 13, 20, 0, tzinfo=TzInfo(UTC)),\n",
       "    'extended_hours': False,\n",
       "    'failed_at': None,\n",
       "    'filled_at': None,\n",
       "    'filled_avg_price': None,\n",
       "    'filled_qty': '0',\n",
       "    'hwm': None,\n",
       "    'id': UUID('365661e6-0388-41ef-9957-b97ae850d184'),\n",
       "    'legs': None,\n",
       "    'limit_price': '210',\n",
       "    'notional': None,\n",
       "    'order_class': <OrderClass.SIMPLE: 'simple'>,\n",
       "    'order_type': <OrderType.STOP_LIMIT: 'stop_limit'>,\n",
       "    'position_intent': <PositionIntent.SELL_TO_OPEN: 'sell_to_open'>,\n",
       "    'qty': '1',\n",
       "    'ratio_qty': None,\n",
       "    'replaced_at': None,\n",
       "    'replaced_by': None,\n",
       "    'replaces': None,\n",
       "    'side': <OrderSide.SELL: 'sell'>,\n",
       "    'status': <OrderStatus.ACCEPTED: 'accepted'>,\n",
       "    'stop_price': '210',\n",
       "    'submitted_at': datetime.datetime(2025, 10, 11, 12, 0, 54, 835140, tzinfo=TzInfo(UTC)),\n",
       "    'symbol': 'GOOG',\n",
       "    'time_in_force': <TimeInForce.DAY: 'day'>,\n",
       "    'trail_percent': None,\n",
       "    'trail_price': None,\n",
       "    'type': <OrderType.STOP_LIMIT: 'stop_limit'>,\n",
       "    'updated_at': datetime.datetime(2025, 10, 11, 12, 0, 54, 836610, tzinfo=TzInfo(UTC))}"
      ]
     },
     "execution_count": 7,
     "metadata": {},
     "output_type": "execute_result"
    }
   ],
   "source": [
    "from alpaca.trading.requests import StopLimitOrderRequest\n",
    "stop_limit_order_data=StopLimitOrderRequest(\n",
    "                    symbol=\"GOOG\",\n",
    "                    stop_price=210,\n",
    "                    limit_price=210,\n",
    "                    qty=1,\n",
    "                    side=OrderSide.SELL,\n",
    "                    time_in_force=TimeInForce.DAY   \n",
    ")\n",
    "\n",
    "stop_limit_order = trading_client.submit_order(\n",
    "                order_data=stop_limit_order_data\n",
    "              )\n",
    "stop_limit_order"
   ]
  },
  {
   "cell_type": "markdown",
   "id": "826cf277",
   "metadata": {},
   "source": [
    "crypto "
   ]
  },
  {
   "cell_type": "code",
   "execution_count": 8,
   "id": "7a57dc81",
   "metadata": {},
   "outputs": [
    {
     "data": {
      "text/plain": [
       "{   'asset_class': <AssetClass.CRYPTO: 'crypto'>,\n",
       "    'asset_id': UUID('a1733398-6acc-4e92-af24-0d0667f78713'),\n",
       "    'canceled_at': None,\n",
       "    'client_order_id': '599c1f83-9995-46f7-ae20-786077cf87d6',\n",
       "    'created_at': datetime.datetime(2025, 10, 11, 12, 14, 10, 980728, tzinfo=TzInfo(UTC)),\n",
       "    'expired_at': None,\n",
       "    'expires_at': datetime.datetime(2026, 1, 8, 21, 0, tzinfo=TzInfo(UTC)),\n",
       "    'extended_hours': False,\n",
       "    'failed_at': None,\n",
       "    'filled_at': None,\n",
       "    'filled_avg_price': None,\n",
       "    'filled_qty': '0',\n",
       "    'hwm': None,\n",
       "    'id': UUID('969bc878-d611-4f15-989a-bbf9e409f3ae'),\n",
       "    'legs': None,\n",
       "    'limit_price': None,\n",
       "    'notional': None,\n",
       "    'order_class': <OrderClass.SIMPLE: 'simple'>,\n",
       "    'order_type': <OrderType.MARKET: 'market'>,\n",
       "    'position_intent': <PositionIntent.BUY_TO_OPEN: 'buy_to_open'>,\n",
       "    'qty': '1',\n",
       "    'ratio_qty': None,\n",
       "    'replaced_at': None,\n",
       "    'replaced_by': None,\n",
       "    'replaces': None,\n",
       "    'side': <OrderSide.BUY: 'buy'>,\n",
       "    'status': <OrderStatus.PENDING_NEW: 'pending_new'>,\n",
       "    'stop_price': None,\n",
       "    'submitted_at': datetime.datetime(2025, 10, 11, 12, 14, 10, 980728, tzinfo=TzInfo(UTC)),\n",
       "    'symbol': 'ETH/USD',\n",
       "    'time_in_force': <TimeInForce.GTC: 'gtc'>,\n",
       "    'trail_percent': None,\n",
       "    'trail_price': None,\n",
       "    'type': <OrderType.MARKET: 'market'>,\n",
       "    'updated_at': datetime.datetime(2025, 10, 11, 12, 14, 10, 983869, tzinfo=TzInfo(UTC))}"
      ]
     },
     "execution_count": 8,
     "metadata": {},
     "output_type": "execute_result"
    }
   ],
   "source": [
    "from alpaca.trading.enums import OrderType\n",
    "from alpaca.trading.requests import MarketOrderRequest\n",
    "from alpaca.trading.enums import OrderSide, TimeInForce\n",
    "symbol='ETH/USD'\n",
    "# simple, market order\n",
    "# you can specify:\n",
    "# or notional value (e.g. 100 USD) (which is in the next example)\n",
    "req = MarketOrderRequest(\n",
    "    symbol = symbol,\n",
    "    qty = 1,\n",
    "    side = OrderSide.BUY,\n",
    "    type = OrderType.MARKET,\n",
    "    time_in_force = TimeInForce.GTC,\n",
    ")\n",
    "res = trading_client.submit_order(req)\n",
    "res"
   ]
  },
  {
   "cell_type": "code",
   "execution_count": 10,
   "id": "54db7715",
   "metadata": {},
   "outputs": [
    {
     "data": {
      "text/plain": [
       "{   'asset_class': <AssetClass.CRYPTO: 'crypto'>,\n",
       "    'asset_id': UUID('8588af33-3a8e-4a09-bb6c-ba4226dc7aff'),\n",
       "    'canceled_at': None,\n",
       "    'client_order_id': '194a4ef7-6dff-43d1-b359-13df2b5ecdc8',\n",
       "    'created_at': datetime.datetime(2025, 10, 11, 12, 18, 56, 687170, tzinfo=TzInfo(UTC)),\n",
       "    'expired_at': None,\n",
       "    'expires_at': datetime.datetime(2026, 1, 8, 21, 0, tzinfo=TzInfo(UTC)),\n",
       "    'extended_hours': False,\n",
       "    'failed_at': None,\n",
       "    'filled_at': None,\n",
       "    'filled_avg_price': None,\n",
       "    'filled_qty': '0',\n",
       "    'hwm': None,\n",
       "    'id': UUID('6026709a-0335-403f-a2dc-3ac4176851b1'),\n",
       "    'legs': None,\n",
       "    'limit_price': '250',\n",
       "    'notional': None,\n",
       "    'order_class': <OrderClass.SIMPLE: 'simple'>,\n",
       "    'order_type': <OrderType.LIMIT: 'limit'>,\n",
       "    'position_intent': <PositionIntent.BUY_TO_OPEN: 'buy_to_open'>,\n",
       "    'qty': '1',\n",
       "    'ratio_qty': None,\n",
       "    'replaced_at': None,\n",
       "    'replaced_by': None,\n",
       "    'replaces': None,\n",
       "    'side': <OrderSide.BUY: 'buy'>,\n",
       "    'status': <OrderStatus.PENDING_NEW: 'pending_new'>,\n",
       "    'stop_price': None,\n",
       "    'submitted_at': datetime.datetime(2025, 10, 11, 12, 18, 56, 687170, tzinfo=TzInfo(UTC)),\n",
       "    'symbol': 'AAVE/USD',\n",
       "    'time_in_force': <TimeInForce.GTC: 'gtc'>,\n",
       "    'trail_percent': None,\n",
       "    'trail_price': None,\n",
       "    'type': <OrderType.LIMIT: 'limit'>,\n",
       "    'updated_at': datetime.datetime(2025, 10, 11, 12, 18, 56, 689162, tzinfo=TzInfo(UTC))}"
      ]
     },
     "execution_count": 10,
     "metadata": {},
     "output_type": "execute_result"
    }
   ],
   "source": [
    "from alpaca.trading.requests import LimitOrderRequest\n",
    "# simple, limit order\n",
    "symbol='AAVE/USD'\n",
    "req = LimitOrderRequest(\n",
    "    symbol = symbol,\n",
    "    qty = 1,\n",
    "    limit_price = 250,\n",
    "    side = OrderSide.BUY,\n",
    "    type = OrderType.LIMIT,\n",
    "    time_in_force = TimeInForce.GTC,\n",
    ")\n",
    "res = trading_client.submit_order(req)\n",
    "res"
   ]
  },
  {
   "cell_type": "markdown",
   "id": "cbda8a1d",
   "metadata": {},
   "source": [
    "stop limit order"
   ]
  },
  {
   "cell_type": "code",
   "execution_count": 12,
   "id": "d9a39c9b",
   "metadata": {},
   "outputs": [
    {
     "data": {
      "text/plain": [
       "{   'asset_class': <AssetClass.CRYPTO: 'crypto'>,\n",
       "    'asset_id': UUID('8588af33-3a8e-4a09-bb6c-ba4226dc7aff'),\n",
       "    'canceled_at': None,\n",
       "    'client_order_id': '6b4e994d-d6ab-44a3-838f-3c8c78cbd0b7',\n",
       "    'created_at': datetime.datetime(2025, 10, 11, 12, 21, 7, 436596, tzinfo=TzInfo(UTC)),\n",
       "    'expired_at': None,\n",
       "    'expires_at': datetime.datetime(2026, 1, 8, 21, 0, tzinfo=TzInfo(UTC)),\n",
       "    'extended_hours': False,\n",
       "    'failed_at': None,\n",
       "    'filled_at': None,\n",
       "    'filled_avg_price': None,\n",
       "    'filled_qty': '0',\n",
       "    'hwm': None,\n",
       "    'id': UUID('5574d001-8ccb-4c0a-91e4-d069388e0065'),\n",
       "    'legs': None,\n",
       "    'limit_price': '241',\n",
       "    'notional': None,\n",
       "    'order_class': <OrderClass.SIMPLE: 'simple'>,\n",
       "    'order_type': <OrderType.STOP_LIMIT: 'stop_limit'>,\n",
       "    'position_intent': <PositionIntent.SELL_TO_CLOSE: 'sell_to_close'>,\n",
       "    'qty': '0.9975',\n",
       "    'ratio_qty': None,\n",
       "    'replaced_at': None,\n",
       "    'replaced_by': None,\n",
       "    'replaces': None,\n",
       "    'side': <OrderSide.SELL: 'sell'>,\n",
       "    'status': <OrderStatus.NEW: 'new'>,\n",
       "    'stop_price': '240',\n",
       "    'submitted_at': datetime.datetime(2025, 10, 11, 12, 21, 7, 436596, tzinfo=TzInfo(UTC)),\n",
       "    'symbol': 'AAVE/USD',\n",
       "    'time_in_force': <TimeInForce.GTC: 'gtc'>,\n",
       "    'trail_percent': None,\n",
       "    'trail_price': None,\n",
       "    'type': <OrderType.STOP_LIMIT: 'stop_limit'>,\n",
       "    'updated_at': datetime.datetime(2025, 10, 11, 12, 21, 7, 438716, tzinfo=TzInfo(UTC))}"
      ]
     },
     "execution_count": 12,
     "metadata": {},
     "output_type": "execute_result"
    }
   ],
   "source": [
    "# stop limit order\n",
    "#fractional orders must be DAY orders\n",
    "req = StopLimitOrderRequest(\n",
    "                    symbol = 'AAVE/USD',\n",
    "                    qty = 0.9975,\n",
    "                    side = OrderSide.SELL,\n",
    "                    time_in_force = TimeInForce.GTC,\n",
    "                    limit_price = 241,\n",
    "                    stop_price = 240\n",
    "                    )\n",
    "\n",
    "res = trading_client.submit_order(req)\n",
    "res"
   ]
  }
 ],
 "metadata": {
  "kernelspec": {
   "display_name": ".venv",
   "language": "python",
   "name": "python3"
  },
  "language_info": {
   "codemirror_mode": {
    "name": "ipython",
    "version": 3
   },
   "file_extension": ".py",
   "mimetype": "text/x-python",
   "name": "python",
   "nbconvert_exporter": "python",
   "pygments_lexer": "ipython3",
   "version": "3.12.8"
  }
 },
 "nbformat": 4,
 "nbformat_minor": 5
}
