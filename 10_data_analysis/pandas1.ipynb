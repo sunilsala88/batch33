{
 "cells": [
  {
   "cell_type": "code",
   "execution_count": null,
   "id": "2d3be2dc",
   "metadata": {},
   "outputs": [],
   "source": [
    "!pip3 install pandas"
   ]
  },
  {
   "cell_type": "code",
   "execution_count": 1,
   "id": "3a303808",
   "metadata": {},
   "outputs": [
    {
     "data": {
      "text/plain": [
       "array([[10, 11, 12],\n",
       "       [13, 14, 15],\n",
       "       [16, 17, 18]])"
      ]
     },
     "execution_count": 1,
     "metadata": {},
     "output_type": "execute_result"
    }
   ],
   "source": [
    "import pandas as pd\n",
    "import numpy as np\n",
    "np2=np.arange(10,19).reshape(3,3)\n",
    "np2"
   ]
  },
  {
   "cell_type": "code",
   "execution_count": null,
   "id": "e92b28d4",
   "metadata": {},
   "outputs": [],
   "source": [
    "df1=pd.DataFrame(np2,index=['r1','r2','r3'],columns=['c1','c2','c3'])\n",
    "df1"
   ]
  },
  {
   "cell_type": "markdown",
   "id": "9d93fa89",
   "metadata": {},
   "source": [
    "list of list"
   ]
  },
  {
   "cell_type": "code",
   "execution_count": null,
   "id": "63131846",
   "metadata": {},
   "outputs": [],
   "source": [
    "l1=[[1,2,3],[4,5,6],[6,7,8]]\n",
    "df2=pd.DataFrame(l1)\n",
    "df2"
   ]
  },
  {
   "cell_type": "markdown",
   "id": "ba907167",
   "metadata": {},
   "source": [
    "dict of list"
   ]
  },
  {
   "cell_type": "code",
   "execution_count": null,
   "id": "29c32d0d",
   "metadata": {},
   "outputs": [],
   "source": [
    "stock={\n",
    "    'name':['aapl','ongc','artil'],\n",
    "    'price':['300','500','900'],\n",
    "    'sector':['tech','oil','telecom']\n",
    "}\n",
    "df3=pd.DataFrame(stock)\n",
    "df3"
   ]
  },
  {
   "cell_type": "markdown",
   "id": "c0f88ed9",
   "metadata": {},
   "source": [
    "list of dict"
   ]
  },
  {
   "cell_type": "code",
   "execution_count": null,
   "id": "33e60180",
   "metadata": {},
   "outputs": [],
   "source": [
    "stock=[\n",
    "    {\"name\":'apple' ,'price':300 ,'sector':'tech'},\n",
    "    {\"name\":'ongc' ,'price':500 ,'sector':'oil'},\n",
    "    {\"name\":'artil' ,'price':400 ,'sector':'oil',}\n",
    "]\n",
    "df4=pd.DataFrame(stock)\n",
    "df4"
   ]
  },
  {
   "cell_type": "code",
   "execution_count": null,
   "id": "e03aa40b",
   "metadata": {},
   "outputs": [],
   "source": [
    "data=pd.read_csv(r'/Users/algo trading 2025/batch33/10_data_analysis/sp500.csv')\n",
    "data"
   ]
  },
  {
   "cell_type": "code",
   "execution_count": null,
   "id": "39b2e294",
   "metadata": {},
   "outputs": [],
   "source": [
    "exel_data=pd.read_excel(r'/Users/algo trading 2025/batch33/10_data_analysis/data2.xlsx')\n",
    "exel_data"
   ]
  },
  {
   "cell_type": "code",
   "execution_count": null,
   "id": "edcc0519",
   "metadata": {},
   "outputs": [],
   "source": [
    "!pip3 install openpyxl"
   ]
  },
  {
   "cell_type": "code",
   "execution_count": null,
   "id": "b59b773f",
   "metadata": {},
   "outputs": [],
   "source": [
    "!pip install lxml"
   ]
  },
  {
   "cell_type": "code",
   "execution_count": 4,
   "id": "7dc20b67",
   "metadata": {},
   "outputs": [
    {
     "data": {
      "text/plain": [
       "[    S.No.              Name  CMP  Rs.      P/E  Mar Cap  Rs.Cr.  Div Yld  %  \\\n",
       " 0      1.  Reliance Industr   1357.20    24.48       1836626.68        0.41   \n",
       " 1      2.         HDFC Bank    951.60    20.70       1461094.21        1.16   \n",
       " 2      3.     Bharti Airtel   1888.80    38.40       1133697.26        0.85   \n",
       " 3      4.               TCS   3084.70    22.65       1116071.46        1.95   \n",
       " 4      5.        ICICI Bank   1397.80    18.87        998148.15        0.79   \n",
       " 5      6.               SBI    802.50     9.32        740757.06        1.98   \n",
       " 6      7.    Hind. Unilever   2659.80    58.77        624944.28        1.62   \n",
       " 7      8.           Infosys   1469.60    22.39        610526.26        2.93   \n",
       " 8      9.     Bajaj Finance    877.85    31.35        546240.57        0.50   \n",
       " 9     10.    Life Insurance    852.15    11.06        538984.68        1.41   \n",
       " 10    11.               ITC    409.75    25.62        513280.01        3.50   \n",
       " 11    12.   Larsen & Toubro   3601.00    31.87        495321.81        0.94   \n",
       " 12    13.     Maruti Suzuki  14791.00    32.00        465032.85        0.91   \n",
       " 13    14.             M & M   3199.50    28.98        397867.05        0.79   \n",
       " 14    15.  HCL Technologies   1454.80    23.26        394784.00        3.71   \n",
       " 15  S.No.              Name  CMP  Rs.      P/E  Mar Cap  Rs.Cr.  Div Yld  %   \n",
       " 16    16.   Kotak Mah. Bank   1960.30    20.36        389810.06        0.13   \n",
       " 17    17.  Sun Pharma.Inds.   1594.50    33.37        382573.96        1.00   \n",
       " 18    18.    UltraTech Cem.  12640.00    53.80        372474.47        0.61   \n",
       " 19    19.         Axis Bank   1045.20    11.64        324255.81        0.10   \n",
       " 20    20.     Titan Company   3628.80    86.77        322159.84        0.30   \n",
       " 21    21.              NTPC    327.55    13.26        317614.30        2.55   \n",
       " 22    22.     Avenue Super.   4755.60   114.31        309462.62        0.00   \n",
       " 23    23.     Bajaj Finserv   1913.50    32.10        305741.56        0.05   \n",
       " 24    24.       Eternal Ltd    313.95  1013.29        302972.76        0.00   \n",
       " 25    25.           O N G C    233.71     8.14        294013.71        5.24   \n",
       " \n",
       "     NP Qtr  Rs.Cr.  Qtr Profit Var  %  Sales Qtr  Rs.Cr.  Qtr Sales Var  %  \\\n",
       " 0         30783.00              35.62          243632.00              5.11   \n",
       " 1         17090.43              -1.32           87371.87              7.14   \n",
       " 2          7421.80              62.85           49462.60             28.45   \n",
       " 3         12819.00               5.98           63437.00              1.32   \n",
       " 4         14456.33              15.92           49079.96             10.09   \n",
       " 5         22121.38               9.71          125728.68              6.33   \n",
       " 6          2768.00               8.18           16514.00              5.14   \n",
       " 7          6924.00               8.68           42279.00              7.54   \n",
       " 8          4765.29              20.13           19523.88             21.27   \n",
       " 9         10955.21               3.91          224671.49              6.00   \n",
       " 10         5343.41               4.71           21494.79             20.91   \n",
       " 11         4318.17              29.85           63678.92             15.53   \n",
       " 12         3792.40               0.87           38605.20              7.90   \n",
       " 13         4376.58              24.39           45529.19             22.33   \n",
       " 14         3844.00              -9.73           30349.00              8.17   \n",
       " 15  NP Qtr  Rs.Cr.  Qtr Profit Var  %  Sales Qtr  Rs.Cr.  Qtr Sales Var  %   \n",
       " 16         4472.18              -2.35           17248.31              8.91   \n",
       " 17         2292.87               1.16           13851.40              9.47   \n",
       " 18         2220.91              43.98           21275.45             13.06   \n",
       " 19         6279.49              -2.99           32348.31              3.82   \n",
       " 20         1091.00              52.59           16523.00             24.55   \n",
       " 21         6108.46               9.80           47065.36             -3.02   \n",
       " 22          772.81              -0.11           16359.70             16.28   \n",
       " 23         5329.17              30.47           35439.08             12.58   \n",
       " 24           25.00             -90.12            7167.00             70.40   \n",
       " 25        11554.21              -1.59          163108.12             -3.47   \n",
       " \n",
       "     ROCE  %  \n",
       " 0      9.69  \n",
       " 1      7.51  \n",
       " 2     13.48  \n",
       " 3     64.63  \n",
       " 4      7.87  \n",
       " 5      6.47  \n",
       " 6     27.85  \n",
       " 7     37.50  \n",
       " 8     11.35  \n",
       " 9     53.13  \n",
       " 10    36.79  \n",
       " 11    14.49  \n",
       " 12    21.70  \n",
       " 13    13.93  \n",
       " 14    31.61  \n",
       " 15  ROCE  %  \n",
       " 16     8.17  \n",
       " 17    20.21  \n",
       " 18    10.89  \n",
       " 19     7.11  \n",
       " 20    19.14  \n",
       " 21     9.95  \n",
       " 22    17.95  \n",
       " 23    11.03  \n",
       " 24     2.66  \n",
       " 25    12.04  ]"
      ]
     },
     "execution_count": 4,
     "metadata": {},
     "output_type": "execute_result"
    }
   ],
   "source": [
    "link='https://www.screener.in/screens/281185/nifty-50/'\n",
    "url = 'https://en.wikipedia.org/wiki/NIFTY_50'\n",
    "data=pd.read_html(link)\n",
    "data"
   ]
  }
 ],
 "metadata": {
  "kernelspec": {
   "display_name": ".venv",
   "language": "python",
   "name": "python3"
  },
  "language_info": {
   "codemirror_mode": {
    "name": "ipython",
    "version": 3
   },
   "file_extension": ".py",
   "mimetype": "text/x-python",
   "name": "python",
   "nbconvert_exporter": "python",
   "pygments_lexer": "ipython3",
   "version": "3.12.8"
  }
 },
 "nbformat": 4,
 "nbformat_minor": 5
}
