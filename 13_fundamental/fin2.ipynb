{
 "cells": [
  {
   "cell_type": "code",
   "execution_count": 1,
   "id": "3dc6ea3f",
   "metadata": {},
   "outputs": [
    {
     "name": "stdout",
     "output_type": "stream",
     "text": [
      "Collecting finvizfinance\n",
      "  Downloading finvizfinance-1.2.0-py3-none-any.whl.metadata (5.2 kB)\n",
      "Requirement already satisfied: pandas in /Users/algo trading 2025/batch33/.venv/lib/python3.12/site-packages (from finvizfinance) (2.3.2)\n",
      "Requirement already satisfied: requests in /Users/algo trading 2025/batch33/.venv/lib/python3.12/site-packages (from finvizfinance) (2.32.5)\n",
      "Requirement already satisfied: beautifulsoup4 in /Users/algo trading 2025/batch33/.venv/lib/python3.12/site-packages (from finvizfinance) (4.13.5)\n",
      "Requirement already satisfied: lxml in /Users/algo trading 2025/batch33/.venv/lib/python3.12/site-packages (from finvizfinance) (6.0.1)\n",
      "Requirement already satisfied: soupsieve>1.2 in /Users/algo trading 2025/batch33/.venv/lib/python3.12/site-packages (from beautifulsoup4->finvizfinance) (2.8)\n",
      "Requirement already satisfied: typing-extensions>=4.0.0 in /Users/algo trading 2025/batch33/.venv/lib/python3.12/site-packages (from beautifulsoup4->finvizfinance) (4.15.0)\n",
      "Requirement already satisfied: numpy>=1.26.0 in /Users/algo trading 2025/batch33/.venv/lib/python3.12/site-packages (from pandas->finvizfinance) (2.3.2)\n",
      "Requirement already satisfied: python-dateutil>=2.8.2 in /Users/algo trading 2025/batch33/.venv/lib/python3.12/site-packages (from pandas->finvizfinance) (2.9.0.post0)\n",
      "Requirement already satisfied: pytz>=2020.1 in /Users/algo trading 2025/batch33/.venv/lib/python3.12/site-packages (from pandas->finvizfinance) (2025.2)\n",
      "Requirement already satisfied: tzdata>=2022.7 in /Users/algo trading 2025/batch33/.venv/lib/python3.12/site-packages (from pandas->finvizfinance) (2025.2)\n",
      "Requirement already satisfied: six>=1.5 in /Users/algo trading 2025/batch33/.venv/lib/python3.12/site-packages (from python-dateutil>=2.8.2->pandas->finvizfinance) (1.17.0)\n",
      "Requirement already satisfied: charset_normalizer<4,>=2 in /Users/algo trading 2025/batch33/.venv/lib/python3.12/site-packages (from requests->finvizfinance) (3.4.3)\n",
      "Requirement already satisfied: idna<4,>=2.5 in /Users/algo trading 2025/batch33/.venv/lib/python3.12/site-packages (from requests->finvizfinance) (3.10)\n",
      "Requirement already satisfied: urllib3<3,>=1.21.1 in /Users/algo trading 2025/batch33/.venv/lib/python3.12/site-packages (from requests->finvizfinance) (2.5.0)\n",
      "Requirement already satisfied: certifi>=2017.4.17 in /Users/algo trading 2025/batch33/.venv/lib/python3.12/site-packages (from requests->finvizfinance) (2025.8.3)\n",
      "Downloading finvizfinance-1.2.0-py3-none-any.whl (44 kB)\n",
      "Installing collected packages: finvizfinance\n",
      "Successfully installed finvizfinance-1.2.0\n"
     ]
    }
   ],
   "source": [
    "!pip install finvizfinance"
   ]
  },
  {
   "cell_type": "code",
   "execution_count": 2,
   "id": "367a5611",
   "metadata": {},
   "outputs": [
    {
     "data": {
      "text/plain": [
       "{'Company': 'Tesla Inc',\n",
       " 'Sector': 'Consumer Cyclical',\n",
       " 'Industry': 'Auto Manufacturers',\n",
       " 'Country': 'USA',\n",
       " 'Exchange': 'NASD',\n",
       " 'Index': 'NDX, S&P 500',\n",
       " 'P/E': '246.74',\n",
       " 'EPS (ttm)': '1.73',\n",
       " 'Insider Own': '15.92%',\n",
       " 'Shs Outstand': '3.22B',\n",
       " 'Perf Week': '7.61%',\n",
       " 'Market Cap': '1374.27B',\n",
       " 'Forward P/E': '170.22',\n",
       " 'EPS next Y': '2.50',\n",
       " 'Insider Trans': '0.30%',\n",
       " 'Shs Float': '2.71B',\n",
       " 'Perf Month': '31.54%',\n",
       " 'Enterprise Value': '1350.82B',\n",
       " 'PEG': '17.65',\n",
       " 'EPS next Q': '0.49',\n",
       " 'Inst Own': '49.96%',\n",
       " 'Short Float': '2.89%',\n",
       " 'Perf Quarter': '32.25%',\n",
       " 'Income': '6.06B',\n",
       " 'P/S': '14.82',\n",
       " 'EPS this Y': '-28.29%',\n",
       " 'Inst Trans': '1.69%',\n",
       " 'Short Ratio': '0.85',\n",
       " 'Perf Half Y': '80.34%',\n",
       " 'Sales': '92.72B',\n",
       " 'P/B': '17.77',\n",
       " 'EPS next Y Percentage': '44.24%',\n",
       " 'ROA': '5.02%',\n",
       " 'Short Interest': '78.27M',\n",
       " 'Perf YTD': '5.50%',\n",
       " 'Book/sh': '23.98',\n",
       " 'P/C': '36.80',\n",
       " 'EPS next 5Y': '13.98%',\n",
       " 'ROE': '8.43%',\n",
       " '52W High': '488.54 -12.79%',\n",
       " 'Perf Year': '86.98%',\n",
       " 'Cash/sh': '11.58',\n",
       " 'P/FCF': '246.02',\n",
       " 'EPS past 3/5Y': '7.72% -',\n",
       " 'ROIC': '6.93%',\n",
       " '52W Low': '212.11 100.87%',\n",
       " 'Perf 3Y': '40.80%',\n",
       " 'Dividend Est.': '-',\n",
       " 'EV/EBITDA': '117.44',\n",
       " 'Sales past 3/5Y': '21.98% 31.78%',\n",
       " 'Gross Margin': '17.48%',\n",
       " 'Volatility W': '3.76%',\n",
       " 'Volatility M': '3.78%',\n",
       " 'Perf 5Y': '204.61%',\n",
       " 'Dividend TTM': '-',\n",
       " 'EV/Sales': '14.57',\n",
       " 'EPS Y/Y TTM': '-51.64%',\n",
       " 'Oper. Margin': '6.23%',\n",
       " 'ATR (14)': '14.92',\n",
       " 'Perf 10Y': '2453.97%',\n",
       " 'Dividend Ex-Date': '-',\n",
       " 'Quick Ratio': '1.55',\n",
       " 'Sales Y/Y TTM': '-2.73%',\n",
       " 'Profit Margin': '6.54%',\n",
       " 'RSI (14)': '76.45',\n",
       " 'Recom': '2.55',\n",
       " 'Dividend Gr. 3/5Y': '- -',\n",
       " 'Current Ratio': '2.04',\n",
       " 'EPS Q/Q': '-21.57%',\n",
       " 'SMA20': '16.30%',\n",
       " 'Beta': '2.06',\n",
       " 'Target Price': '333.52',\n",
       " 'Payout': '0.00%',\n",
       " 'Debt/Eq': '0.17',\n",
       " 'Sales Q/Q': '-11.78%',\n",
       " 'SMA50': '25.21%',\n",
       " 'Rel Volume': '1.00',\n",
       " 'Prev Close': '416.85',\n",
       " 'Employees': '125665',\n",
       " 'LT Debt/Eq': '0.13',\n",
       " 'Earnings': 'Jul 23 AMC',\n",
       " 'SMA200': '28.04%',\n",
       " 'Avg Volume': '91.99M',\n",
       " 'Price': '426.07',\n",
       " 'IPO': 'Jun 29, 2010',\n",
       " 'Option/Short': 'Yes / Yes',\n",
       " 'EPS/Sales Surpr.': '0.70% 0.97%',\n",
       " 'Trades': '\\n\\n',\n",
       " 'Volume': '92,066,564',\n",
       " 'Change': '2.21%'}"
      ]
     },
     "execution_count": 2,
     "metadata": {},
     "output_type": "execute_result"
    }
   ],
   "source": [
    "from finvizfinance.quote import finvizfinance\n",
    "\n",
    "stock = finvizfinance('tsla')\n",
    "stock_fundament = stock.ticker_fundament()\n",
    "stock_fundament"
   ]
  },
  {
   "cell_type": "code",
   "execution_count": 3,
   "id": "3f69febc",
   "metadata": {},
   "outputs": [
    {
     "data": {
      "text/plain": [
       "'https://finviz.com/chart.ashx?t=tsla&ty=c&ta=1&p=d'"
      ]
     },
     "execution_count": 3,
     "metadata": {},
     "output_type": "execute_result"
    }
   ],
   "source": [
    "stock.ticker_charts()"
   ]
  }
 ],
 "metadata": {
  "kernelspec": {
   "display_name": ".venv",
   "language": "python",
   "name": "python3"
  },
  "language_info": {
   "codemirror_mode": {
    "name": "ipython",
    "version": 3
   },
   "file_extension": ".py",
   "mimetype": "text/x-python",
   "name": "python",
   "nbconvert_exporter": "python",
   "pygments_lexer": "ipython3",
   "version": "3.12.8"
  }
 },
 "nbformat": 4,
 "nbformat_minor": 5
}
