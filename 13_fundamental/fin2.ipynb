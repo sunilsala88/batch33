{
 "cells": [
  {
   "cell_type": "code",
   "execution_count": 1,
   "id": "3dc6ea3f",
   "metadata": {},
   "outputs": [
    {
     "name": "stdout",
     "output_type": "stream",
     "text": [
      "Collecting finvizfinance\n",
      "  Downloading finvizfinance-1.2.0-py3-none-any.whl.metadata (5.2 kB)\n",
      "Requirement already satisfied: pandas in /Users/algo trading 2025/batch33/.venv/lib/python3.12/site-packages (from finvizfinance) (2.3.2)\n",
      "Requirement already satisfied: requests in /Users/algo trading 2025/batch33/.venv/lib/python3.12/site-packages (from finvizfinance) (2.32.5)\n",
      "Requirement already satisfied: beautifulsoup4 in /Users/algo trading 2025/batch33/.venv/lib/python3.12/site-packages (from finvizfinance) (4.13.5)\n",
      "Requirement already satisfied: lxml in /Users/algo trading 2025/batch33/.venv/lib/python3.12/site-packages (from finvizfinance) (6.0.1)\n",
      "Requirement already satisfied: soupsieve>1.2 in /Users/algo trading 2025/batch33/.venv/lib/python3.12/site-packages (from beautifulsoup4->finvizfinance) (2.8)\n",
      "Requirement already satisfied: typing-extensions>=4.0.0 in /Users/algo trading 2025/batch33/.venv/lib/python3.12/site-packages (from beautifulsoup4->finvizfinance) (4.15.0)\n",
      "Requirement already satisfied: numpy>=1.26.0 in /Users/algo trading 2025/batch33/.venv/lib/python3.12/site-packages (from pandas->finvizfinance) (2.3.2)\n",
      "Requirement already satisfied: python-dateutil>=2.8.2 in /Users/algo trading 2025/batch33/.venv/lib/python3.12/site-packages (from pandas->finvizfinance) (2.9.0.post0)\n",
      "Requirement already satisfied: pytz>=2020.1 in /Users/algo trading 2025/batch33/.venv/lib/python3.12/site-packages (from pandas->finvizfinance) (2025.2)\n",
      "Requirement already satisfied: tzdata>=2022.7 in /Users/algo trading 2025/batch33/.venv/lib/python3.12/site-packages (from pandas->finvizfinance) (2025.2)\n",
      "Requirement already satisfied: six>=1.5 in /Users/algo trading 2025/batch33/.venv/lib/python3.12/site-packages (from python-dateutil>=2.8.2->pandas->finvizfinance) (1.17.0)\n",
      "Requirement already satisfied: charset_normalizer<4,>=2 in /Users/algo trading 2025/batch33/.venv/lib/python3.12/site-packages (from requests->finvizfinance) (3.4.3)\n",
      "Requirement already satisfied: idna<4,>=2.5 in /Users/algo trading 2025/batch33/.venv/lib/python3.12/site-packages (from requests->finvizfinance) (3.10)\n",
      "Requirement already satisfied: urllib3<3,>=1.21.1 in /Users/algo trading 2025/batch33/.venv/lib/python3.12/site-packages (from requests->finvizfinance) (2.5.0)\n",
      "Requirement already satisfied: certifi>=2017.4.17 in /Users/algo trading 2025/batch33/.venv/lib/python3.12/site-packages (from requests->finvizfinance) (2025.8.3)\n",
      "Downloading finvizfinance-1.2.0-py3-none-any.whl (44 kB)\n",
      "Installing collected packages: finvizfinance\n",
      "Successfully installed finvizfinance-1.2.0\n"
     ]
    }
   ],
   "source": [
    "!pip install finvizfinance"
   ]
  },
  {
   "cell_type": "code",
   "execution_count": 5,
   "id": "367a5611",
   "metadata": {},
   "outputs": [
    {
     "data": {
      "text/plain": [
       "246.74"
      ]
     },
     "execution_count": 5,
     "metadata": {},
     "output_type": "execute_result"
    }
   ],
   "source": [
    "from finvizfinance.quote import finvizfinance\n",
    "\n",
    "stock = finvizfinance('tsla')\n",
    "stock_fundament = stock.ticker_fundament()\n",
    "float(stock_fundament.get('P/E'))"
   ]
  },
  {
   "cell_type": "code",
   "execution_count": 3,
   "id": "3f69febc",
   "metadata": {},
   "outputs": [
    {
     "data": {
      "text/plain": [
       "'https://finviz.com/chart.ashx?t=tsla&ty=c&ta=1&p=d'"
      ]
     },
     "execution_count": 3,
     "metadata": {},
     "output_type": "execute_result"
    }
   ],
   "source": [
    "stock.ticker_charts()"
   ]
  },
  {
   "cell_type": "code",
   "execution_count": 7,
   "id": "4decd321",
   "metadata": {},
   "outputs": [
    {
     "data": {
      "text/plain": [
       "{'AAPL': 37.32,\n",
       " 'MSFT': 37.97,\n",
       " 'GOOGL': 27.13,\n",
       " 'AMZN': 35.33,\n",
       " 'TSLA': 246.74,\n",
       " 'META': 28.19,\n",
       " 'NVDA': 50.28,\n",
       " 'JPM': 16.15,\n",
       " 'V': 33.72,\n",
       " 'UNH': 14.58,\n",
       " 'HD': 28.24,\n",
       " 'PG': 23.98,\n",
       " 'MA': 39.41,\n",
       " 'DIS': 17.84,\n",
       " 'PYPL': 14.61,\n",
       " 'BAC': 15.3,\n",
       " 'ADBE': 22.79,\n",
       " 'CMCSA': 5.22,\n",
       " 'NFLX': 52.29,\n",
       " 'XOM': 16.0,\n",
       " 'KO': 23.54}"
      ]
     },
     "execution_count": 7,
     "metadata": {},
     "output_type": "execute_result"
    }
   ],
   "source": [
    "dict_of_pe={}\n",
    "list_of_stocks=['AAPL','MSFT','GOOGL','AMZN','TSLA','META','NVDA','JPM','V','UNH','HD','PG','MA','DIS','PYPL','BAC','ADBE','CMCSA','NFLX','XOM','KO']\n",
    "for stock in list_of_stocks:\n",
    "    stock1=finvizfinance(stock.lower())\n",
    "    stock_fundament = stock1.ticker_fundament()\n",
    "    dict_of_pe[stock]= float(stock_fundament.get('P/E'))\n",
    "dict_of_pe"
   ]
  },
  {
   "cell_type": "code",
   "execution_count": 8,
   "id": "d1953125",
   "metadata": {},
   "outputs": [
    {
     "data": {
      "text/plain": [
       "'TSLA'"
      ]
     },
     "execution_count": 8,
     "metadata": {},
     "output_type": "execute_result"
    }
   ],
   "source": [
    "l1=list(dict_of_pe.values())\n",
    "i=l1.index(max(l1))\n",
    "list_of_stocks[i]"
   ]
  }
 ],
 "metadata": {
  "kernelspec": {
   "display_name": ".venv",
   "language": "python",
   "name": "python3"
  },
  "language_info": {
   "codemirror_mode": {
    "name": "ipython",
    "version": 3
   },
   "file_extension": ".py",
   "mimetype": "text/x-python",
   "name": "python",
   "nbconvert_exporter": "python",
   "pygments_lexer": "ipython3",
   "version": "3.12.8"
  }
 },
 "nbformat": 4,
 "nbformat_minor": 5
}
