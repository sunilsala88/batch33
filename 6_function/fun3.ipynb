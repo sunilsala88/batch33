{
 "cells": [
  {
   "cell_type": "code",
   "execution_count": null,
   "id": "ed768565",
   "metadata": {},
   "outputs": [],
   "source": [
    "def add2(num1 :str ,num2 :str)-> str:\n",
    "    \"\"\"\n",
    "    this function will add 2 num\n",
    "    \"\"\"\n",
    "    ans=num1+num2\n",
    "    return ans\n",
    "\n"
   ]
  },
  {
   "cell_type": "code",
   "execution_count": null,
   "id": "cb7b945a",
   "metadata": {},
   "outputs": [],
   "source": [
    "#positional argument\n",
    "a=add2('5','6')\n",
    "print(a)"
   ]
  }
 ],
 "metadata": {
  "kernelspec": {
   "display_name": "Python 3",
   "language": "python",
   "name": "python3"
  },
  "language_info": {
   "codemirror_mode": {
    "name": "ipython",
    "version": 3
   },
   "file_extension": ".py",
   "mimetype": "text/x-python",
   "name": "python",
   "nbconvert_exporter": "python",
   "pygments_lexer": "ipython3",
   "version": "3.12.8"
  }
 },
 "nbformat": 4,
 "nbformat_minor": 5
}
