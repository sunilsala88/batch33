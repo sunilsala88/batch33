{
 "cells": [
  {
   "cell_type": "markdown",
   "id": "494123af",
   "metadata": {},
   "source": [
    "dictionary (mutable)"
   ]
  },
  {
   "cell_type": "code",
   "execution_count": 1,
   "id": "c6785562",
   "metadata": {},
   "outputs": [
    {
     "data": {
      "text/plain": [
       "{'tsla': 600, 'banknifty': 700, 'nvda': 890, 'jpm': 400}"
      ]
     },
     "execution_count": 1,
     "metadata": {},
     "output_type": "execute_result"
    }
   ],
   "source": [
    "stock_prices={'tsla':600,'banknifty':700,'nvda':890,'jpm':400}\n",
    "stock_prices"
   ]
  },
  {
   "cell_type": "code",
   "execution_count": 14,
   "id": "561e0fb1",
   "metadata": {},
   "outputs": [
    {
     "data": {
      "text/plain": [
       "700"
      ]
     },
     "execution_count": 14,
     "metadata": {},
     "output_type": "execute_result"
    }
   ],
   "source": [
    "#access\n",
    "#older way\n",
    "stock_prices['banknifty']"
   ]
  },
  {
   "cell_type": "code",
   "execution_count": 15,
   "id": "9e5cc2ea",
   "metadata": {},
   "outputs": [
    {
     "data": {
      "text/plain": [
       "700"
      ]
     },
     "execution_count": 15,
     "metadata": {},
     "output_type": "execute_result"
    }
   ],
   "source": [
    "stock_prices.get('banknifty')"
   ]
  },
  {
   "cell_type": "code",
   "execution_count": 2,
   "id": "30e47b4e",
   "metadata": {},
   "outputs": [],
   "source": [
    "#add\n",
    "stock_prices.update({'ongc':500})"
   ]
  },
  {
   "cell_type": "code",
   "execution_count": 4,
   "id": "84e6029e",
   "metadata": {},
   "outputs": [],
   "source": [
    "#update\n",
    "stock_prices.update({'tsla':620})"
   ]
  },
  {
   "cell_type": "code",
   "execution_count": 12,
   "id": "0ec88cfd",
   "metadata": {},
   "outputs": [],
   "source": [
    "#older way of adding\n",
    "stock_prices['reliance']=980"
   ]
  },
  {
   "cell_type": "code",
   "execution_count": 6,
   "id": "38607eaf",
   "metadata": {},
   "outputs": [
    {
     "data": {
      "text/plain": [
       "400"
      ]
     },
     "execution_count": 6,
     "metadata": {},
     "output_type": "execute_result"
    }
   ],
   "source": [
    "stock_prices.pop('jpm')"
   ]
  },
  {
   "cell_type": "code",
   "execution_count": null,
   "id": "66a98acf",
   "metadata": {},
   "outputs": [],
   "source": [
    "#older way\n",
    "del stock_prices['nvda']"
   ]
  },
  {
   "cell_type": "code",
   "execution_count": 13,
   "id": "bec3789d",
   "metadata": {},
   "outputs": [
    {
     "data": {
      "text/plain": [
       "{'tsla': 620, 'banknifty': 700, 'ongc': 500, 'reliance': 980}"
      ]
     },
     "execution_count": 13,
     "metadata": {},
     "output_type": "execute_result"
    }
   ],
   "source": [
    "stock_prices"
   ]
  },
  {
   "cell_type": "markdown",
   "id": "634a4754",
   "metadata": {},
   "source": [
    "sets"
   ]
  },
  {
   "cell_type": "code",
   "execution_count": null,
   "id": "3b18cb7b",
   "metadata": {},
   "outputs": [],
   "source": []
  }
 ],
 "metadata": {
  "kernelspec": {
   "display_name": "Python 3",
   "language": "python",
   "name": "python3"
  },
  "language_info": {
   "codemirror_mode": {
    "name": "ipython",
    "version": 3
   },
   "file_extension": ".py",
   "mimetype": "text/x-python",
   "name": "python",
   "nbconvert_exporter": "python",
   "pygments_lexer": "ipython3",
   "version": "3.12.8"
  }
 },
 "nbformat": 4,
 "nbformat_minor": 5
}
