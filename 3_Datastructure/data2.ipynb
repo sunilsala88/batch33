{
 "cells": [
  {
   "cell_type": "code",
   "execution_count": null,
   "id": "6b04730e",
   "metadata": {},
   "outputs": [],
   "source": [
    "a=10\n",
    "b=3.4\n",
    "c='5askjdflkajsdfkj5'\n",
    "d=True"
   ]
  },
  {
   "cell_type": "code",
   "execution_count": null,
   "id": "d8832963",
   "metadata": {},
   "outputs": [
    {
     "data": {
      "text/plain": [
       "'nifty60'"
      ]
     },
     "execution_count": 14,
     "metadata": {},
     "output_type": "execute_result"
    }
   ],
   "source": [
    "#immutable\n",
    "s1='nifty50'\n",
    "s1.replace('50','60')"
   ]
  },
  {
   "cell_type": "code",
   "execution_count": 20,
   "id": "d8414fdd",
   "metadata": {},
   "outputs": [
    {
     "data": {
      "text/plain": [
       "2"
      ]
     },
     "execution_count": 20,
     "metadata": {},
     "output_type": "execute_result"
    }
   ],
   "source": [
    "s1.index('f')"
   ]
  },
  {
   "cell_type": "code",
   "execution_count": null,
   "id": "d1c3dadb",
   "metadata": {},
   "outputs": [
    {
     "data": {
      "text/plain": [
       "'nifty50'"
      ]
     },
     "execution_count": 15,
     "metadata": {},
     "output_type": "execute_result"
    }
   ],
   "source": [
    "s1"
   ]
  },
  {
   "cell_type": "code",
   "execution_count": null,
   "id": "22f2601c",
   "metadata": {},
   "outputs": [
    {
     "data": {
      "text/plain": [
       "[33, 44, 55, 66]"
      ]
     },
     "execution_count": 16,
     "metadata": {},
     "output_type": "execute_result"
    }
   ],
   "source": [
    "#mutable\n",
    "prices=[33,44,55,66]\n",
    "prices"
   ]
  },
  {
   "cell_type": "code",
   "execution_count": 11,
   "id": "affa0261",
   "metadata": {},
   "outputs": [
    {
     "data": {
      "text/plain": [
       "[33, 44]"
      ]
     },
     "execution_count": 11,
     "metadata": {},
     "output_type": "execute_result"
    }
   ],
   "source": [
    "prices[:2]"
   ]
  },
  {
   "cell_type": "code",
   "execution_count": 17,
   "id": "f825de14",
   "metadata": {},
   "outputs": [],
   "source": [
    "prices.append(22)"
   ]
  },
  {
   "cell_type": "code",
   "execution_count": 22,
   "id": "5f434ca6",
   "metadata": {},
   "outputs": [],
   "source": [
    "prices.remove(33)"
   ]
  },
  {
   "cell_type": "code",
   "execution_count": 21,
   "id": "3157f5ab",
   "metadata": {},
   "outputs": [
    {
     "data": {
      "text/plain": [
       "3"
      ]
     },
     "execution_count": 21,
     "metadata": {},
     "output_type": "execute_result"
    }
   ],
   "source": [
    "prices.index(66)"
   ]
  },
  {
   "cell_type": "code",
   "execution_count": 23,
   "id": "befa4c76",
   "metadata": {},
   "outputs": [
    {
     "data": {
      "text/plain": [
       "[44, 55, 66, 22]"
      ]
     },
     "execution_count": 23,
     "metadata": {},
     "output_type": "execute_result"
    }
   ],
   "source": [
    "prices"
   ]
  }
 ],
 "metadata": {
  "kernelspec": {
   "display_name": "Python 3",
   "language": "python",
   "name": "python3"
  },
  "language_info": {
   "codemirror_mode": {
    "name": "ipython",
    "version": 3
   },
   "file_extension": ".py",
   "mimetype": "text/x-python",
   "name": "python",
   "nbconvert_exporter": "python",
   "pygments_lexer": "ipython3",
   "version": "3.12.8"
  }
 },
 "nbformat": 4,
 "nbformat_minor": 5
}
